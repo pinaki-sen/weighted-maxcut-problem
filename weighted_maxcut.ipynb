{
  "nbformat": 4,
  "nbformat_minor": 0,
  "metadata": {
    "colab": {
      "name": "weighted_maxcut.ipynb",
      "provenance": [],
      "collapsed_sections": [
        "N-IapU5495qy",
        "Z8yU6WXU_CRX",
        "HQPQAhPt_cJS",
        "aYl4nA1JDfE4",
        "lazVnWLMdEU6",
        "e1zEVV6Jg__2",
        "8kzqKVoSfayd",
        "NqDEfBHtiN2V"
      ]
    },
    "kernelspec": {
      "name": "python3",
      "display_name": "Python 3"
    }
  },
  "cells": [
    {
      "cell_type": "markdown",
      "metadata": {
        "id": "N-IapU5495qy"
      },
      "source": [
        "# Weighted MAXCUT Problem"
      ]
    },
    {
      "cell_type": "markdown",
      "metadata": {
        "id": "qo8NsS0T995H"
      },
      "source": [
        "## Problem Statement : \n",
        "The [MaxCut problem](https://en.wikipedia.org/wiki/Maximum_cut) is a well-known optimization problem in which the nodes of a given undirected graph have to be divided in two sets (often referred as the set of “white” and “black” nodes) such that the number of edges connecting a white node with a black node are maximized. The MaxCut problem is a problem on which the QAOA algorithm has proved to be useful (for an explanation of the QAOA algorithm you can read [this blogpost](https://www.mustythoughts.com/quantum-approximate-optimization-algorithm-explained)).\n",
        "\n",
        "At [this link](https://lucaman99.github.io/new_blog/2020/mar16.html) you can find an explicit implementation of the QAOA algorithm to solve the MaxCut problem for the simpler case of an unweighted graph. We ask you to generalize the above code to include also the solution for the case of weighted graphs. You can use the same code or you can also do an alternative implementation using, for example, qiskit. The important point is that you do not make use of any built-in QAOA functionalities."
      ]
    },
    {
      "cell_type": "markdown",
      "metadata": {
        "id": "Z8yU6WXU_CRX"
      },
      "source": [
        "# Required Installation and Imports"
      ]
    },
    {
      "cell_type": "code",
      "metadata": {
        "id": "B28aU267-7od"
      },
      "source": [
        "!pip install pennylane --upgrade"
      ],
      "execution_count": null,
      "outputs": []
    },
    {
      "cell_type": "code",
      "metadata": {
        "id": "TuxD8oAS_VCG"
      },
      "source": [
        "import pennylane as qml\n",
        "from pennylane import numpy as np"
      ],
      "execution_count": 2,
      "outputs": []
    },
    {
      "cell_type": "markdown",
      "metadata": {
        "id": "HQPQAhPt_cJS"
      },
      "source": [
        "# Test Cases"
      ]
    },
    {
      "cell_type": "markdown",
      "metadata": {
        "id": "ENsx4bJJ_5xN"
      },
      "source": [
        "Each of the test cases here basically represented by three parameters. \n",
        "\n",
        "1. n_wires which denotes number of nodes in the graph as well as the number of qubits that  will be used in the quantum circuit. \n",
        "\n",
        "2. graph - each element of this list represents each edge of the graph by mentioning the number of two nodes of that edge. \n",
        "\n",
        "3. weight - this list contains information about the weights associated with each nodes. \n",
        "\n",
        "Importantly, the sequance of edges followed in the 'graph', the same sequence must be followed in the 'weight' too. "
      ]
    },
    {
      "cell_type": "code",
      "metadata": {
        "id": "ZVFWZxcO_Zrs"
      },
      "source": [
        "n_wires = 3\n",
        "graph = [(0,1), (1,2), (0,2)]\n",
        "weight = [10, 1, 10]\n",
        "\n",
        "\n",
        "# n_wires = 4\n",
        "# graph = [(0, 1), (0, 3), (1, 2), (2, 3)]\n",
        "# weight = [1, 1, 1, 1]\n",
        "\n",
        "# n_wires = 6\n",
        "# graph = [(0,1), (0,2), (1,2), (2,3), (3,4), (4,5), (3,5)]\n",
        "\n",
        "\n",
        "# n_wires = 5\n",
        "# graph = [(0,1), (0,2), (1,2), (1,3), (2,3), (3,4)]\n",
        "# weight = [5, 1, 7, 4, 2, 3]\n",
        "\n",
        "\n"
      ],
      "execution_count": 3,
      "outputs": []
    },
    {
      "cell_type": "markdown",
      "metadata": {
        "id": "aYl4nA1JDfE4"
      },
      "source": [
        "# Theoretical Discussion"
      ]
    },
    {
      "cell_type": "markdown",
      "metadata": {
        "id": "rNBFayDmDjlw"
      },
      "source": [
        "The main moto of this problem is to seperate the whole set of nodes in two subsets $A$ and $B$ such that the sum of weights of edges that have different types of nodes at their ends become the maximum possible value. \n",
        "\n",
        "In other words, we have to find a partition through the whole graph, such that sum of weights of edges that the partition passes becomes the maximum among all possible cuts. \n",
        "\n",
        "We can convert this to a simple mathematical expression. \n",
        "\n",
        ">>>$C(z) = \\sum \\limits _{\\alpha=1} ^{m} C_{\\alpha}(z) $\n",
        "\n",
        "\n",
        "\n",
        "Here $C(z)$ represents the score of a specific partition through the graph. $\\alpha$ iterates from 1 to m where m is the number of edges present. for each edge, $C_{\\alpha}(z)$ represents the score associated with each edge. $C_{\\alpha}(z)$ is equal to the weight of the edge if the partition passes through that edge and equal to $0$, if not. \n",
        "\n"
      ]
    },
    {
      "cell_type": "markdown",
      "metadata": {
        "id": "K6MENVUVH2IK"
      },
      "source": [
        "# Representing in terms of Quantum Circuit"
      ]
    },
    {
      "cell_type": "markdown",
      "metadata": {
        "id": "qXJHHw_wJfGe"
      },
      "source": [
        "As we have already defined a score value for a cut, we have to define that in terms of unitary ooperators that can be implemented on the quantum circuit. \n",
        "\n",
        "While representing the partition using computational basis states, we can represent the terms in $C(z)$ as operators acting on the states. \n",
        "\n",
        ">>> $C_{\\alpha} = \\frac{1}{2} W (1-\\sigma_z^j \\sigma_z^k) $\n",
        "\n",
        "Here the $\\alpha$th edge is the edge connecting $j$th and $k$th nodes. For each node $C_{\\alpha}$ will be equal to the weight of the edge if the partition goes between $j$th and $k$th nodes and equal to $0$ if doesn't pass because the operator $(1-\\sigma_z^j \\sigma_z^k)$ has eigenvalue $1$, iff $j$th and $k$th qubit have different z-axis measurement values. \n",
        "\n",
        "\n"
      ]
    },
    {
      "cell_type": "markdown",
      "metadata": {
        "id": "rIl8DnCtNZQ9"
      },
      "source": [
        "Initially the circuit is converted to equal superposition state by applying Hadamard gate in each individual qubit, also known as $|+_{n}>$ state. \n",
        "\n",
        "The circuit consists of $L$ layers of $U_B$ and $U_C$ gates. In each layer, one $U_B$ and one $U_C$ is associated with one $\\beta$ and $\\gamma$ parameter. Therefore each layers having 2 params $\\beta$ and $\\gamma$, the whole $L$ layered circuit is consist of $2L$ parameters. \n",
        "\n",
        "Now coming to each of the layers, $U_B$ is single qubit operator, implemented on each of the individual qubits and it is basically a $R_x$ gate with parameter $2\\beta$. $U_C$ whereas acts on two qubits. It is implemented on those two nodes who are connected by an edge in the graph. $U_C$ is $R_z$ gate with parameter $\\gamma$ sandwiched between two CNOT gates. "
      ]
    },
    {
      "cell_type": "markdown",
      "metadata": {
        "id": "lazVnWLMdEU6"
      },
      "source": [
        "## Defining $U_B$ operator"
      ]
    },
    {
      "cell_type": "code",
      "metadata": {
        "id": "SdF3ExXVdbBj"
      },
      "source": [
        "def U_B(beta):\n",
        "    for qubit in range(n_wires):\n",
        "        qml.RX(2*beta, wires=qubit)"
      ],
      "execution_count": 3,
      "outputs": []
    },
    {
      "cell_type": "markdown",
      "metadata": {
        "id": "e1zEVV6Jg__2"
      },
      "source": [
        "## Defining $U_C$ operator"
      ]
    },
    {
      "cell_type": "code",
      "metadata": {
        "id": "BZGrfBK0BrW5"
      },
      "source": [
        "def U_C(gamma):\n",
        "    for edge in graph:\n",
        "        qubit1 = edge[0]\n",
        "        qubit2 = edge[1]\n",
        "        qml.CNOT(wires = [qubit1, qubit2])\n",
        "        qml.RZ(gamma, wires = qubit2)\n",
        "        qml.CNOT(wires = [qubit1, qubit2])\n"
      ],
      "execution_count": 4,
      "outputs": []
    },
    {
      "cell_type": "markdown",
      "metadata": {
        "id": "8kzqKVoSfayd"
      },
      "source": [
        "## Computational Basis Measurement"
      ]
    },
    {
      "cell_type": "markdown",
      "metadata": {
        "id": "9wuO66XRhOsr"
      },
      "source": [
        "To sample a measurement of multiple qubits in computational basis, we define this Hermitian operator. The eigenvalues of the operator are the qubit measurement values in integer form."
      ]
    },
    {
      "cell_type": "code",
      "metadata": {
        "id": "wHp_8DpphKyj"
      },
      "source": [
        "def comp_basis_measurement(wires):\n",
        "    n_wires = len(wires)\n",
        "    return qml.Hermitian(np.diag(range(2 ** n_wires)), wires=wires)"
      ],
      "execution_count": 5,
      "outputs": []
    },
    {
      "cell_type": "markdown",
      "metadata": {
        "id": "NqDEfBHtiN2V"
      },
      "source": [
        "# Creating the circuit"
      ]
    },
    {
      "cell_type": "markdown",
      "metadata": {
        "id": "fVfSrugFjUEB"
      },
      "source": [
        "First we are creating a device with wires same as the number of nodes present in the graph"
      ]
    },
    {
      "cell_type": "code",
      "metadata": {
        "id": "oJ7q6qVojP3W"
      },
      "source": [
        "dev = qml.device(\"default.qubit\", wires=n_wires, analytic=True, shots=1)"
      ],
      "execution_count": 10,
      "outputs": []
    },
    {
      "cell_type": "markdown",
      "metadata": {
        "id": "To3E_MUpjhTC"
      },
      "source": [
        "We will define a $PauliZ_2$, which will be used to measure the expectatio value at the end of the circuit"
      ]
    },
    {
      "cell_type": "code",
      "metadata": {
        "id": "FVBiaIU2j7Ft"
      },
      "source": [
        "pauliZ = [[1, 0], [0, -1]]\n",
        "\n",
        "pauliZ_2 = np.kron(pauliZ, pauliZ)"
      ],
      "execution_count": 11,
      "outputs": []
    },
    {
      "cell_type": "markdown",
      "metadata": {
        "id": "IwLRC32TkOXp"
      },
      "source": [
        "Now the total circuit we will define and call the operators as a function one by one we defined previously. \n",
        "\n",
        "Intially the circuit is initialized as zero state on each qubit. \n",
        "\n",
        "Then we will apply Hadamard on each qubit to create equal superposition. \n",
        "\n",
        "After that $U_C$ and $U_B$ operator will be called $L$ times, where $L$ stands for the number of layers decided. \n",
        "\n",
        "Finally, we measure expectation value of each of the edges on the PauliZ_2 basis defined previously. "
      ]
    },
    {
      "cell_type": "code",
      "metadata": {
        "id": "W8D5xmIWkLx7"
      },
      "source": [
        "@qml.qnode(dev)\n",
        "def circuit(gamma, beta, edge=None, layers=1):\n",
        "\n",
        "    for qubit in range(n_wires):\n",
        "        qml.Hadamard(wires = qubit)\n",
        "\n",
        "    for l in range(layers):\n",
        "        U_C(gamma[l])\n",
        "        U_B(beta[l])\n",
        "\n",
        "    if edge is None:\n",
        "        return qml.sample(comp_basis_measurement(range(n_wires)))\n",
        "\n",
        "    return qml.expval(qml.Hermitian(pauliZ_2, wires=edge))\n",
        "\n",
        "\n"
      ],
      "execution_count": 12,
      "outputs": []
    },
    {
      "cell_type": "markdown",
      "metadata": {
        "id": "NNoDB9mVmkqs"
      },
      "source": [
        "# Optimization"
      ]
    },
    {
      "cell_type": "code",
      "metadata": {
        "id": "tARPDbAKodZH"
      },
      "source": [
        ""
      ],
      "execution_count": 17,
      "outputs": []
    },
    {
      "cell_type": "code",
      "metadata": {
        "id": "fy7VdMUAmoj8"
      },
      "source": [
        "def optimize_weighted_maxcut(layers = 1):\n",
        "\n",
        "    print(\"No of Layers => \", layers)\n",
        "\n",
        "    init_params = 0.01 * np.random.rand(2, layers)\n",
        "\n",
        "\n",
        "\n",
        "    def obj_func(params):\n",
        "\n",
        "        gamma = params[0]\n",
        "        beta = params[1]\n",
        "\n",
        "        score = 0\n",
        "        \n",
        "        for idx in range(n_wires):\n",
        "            score -= 0.5 * weight[idx] * (1 - circuit(gamma, beta, edge=graph[idx], layers=layers))\n",
        "\n",
        "        return score\n",
        "\n",
        "    optimizer = qml.AdagradOptimizer(stepsize = 0.5)\n",
        "\n",
        "    params = init_params\n",
        "\n",
        "    n_iters = 100\n",
        "\n",
        "    for iter in range(n_iters):\n",
        "        params = optimizer.step(obj_func, params)\n",
        "\n",
        "        if ((iter+1)%5 == 0):\n",
        "            print (\"Score after step {} => {: .7f}\".format(iter+1, (-1)*obj_func(params)))\n",
        "\n",
        "    n_samples = 100\n",
        "    bit_strings = []\n",
        "\n",
        "    for i in range(n_samples):\n",
        "        gamma = params[0]\n",
        "        beta = params[1]\n",
        "        bit_string = int(circuit(gamma, beta, \n",
        "                                 edge = None, \n",
        "                                 layers = layers))\n",
        "        bit_strings.append(bit_string)\n",
        "\n",
        "        \n",
        "    counts = np.bincount(np.array(bit_strings))\n",
        "    most_freq_bit_string = np.argmax(counts)\n",
        "\n",
        "    print(\"Optimized (gamma, beta) parameters:\\n{}\".format(params[:, :layers]))\n",
        "    print(\"Most frequently sampled bit string is: {:03b}\".format(most_freq_bit_string))\n",
        "\n",
        "    return ((-1)*obj_func(params), bit_strings)"
      ],
      "execution_count": 36,
      "outputs": []
    },
    {
      "cell_type": "markdown",
      "metadata": {
        "id": "AtxMQyKisa7k"
      },
      "source": [
        "# Test case 1"
      ]
    },
    {
      "cell_type": "code",
      "metadata": {
        "id": "lodlIeE4sg5n"
      },
      "source": [
        "n_wires = 3\n",
        "graph = [(0,1), (1,2), (0,2)]\n",
        "weight = [10, 1, 10]"
      ],
      "execution_count": 37,
      "outputs": []
    },
    {
      "cell_type": "markdown",
      "metadata": {
        "id": "wSDzmFFwyn0M"
      },
      "source": [
        "![case1_unsolved.png](data:image/png;base64,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)"
      ]
    },
    {
      "cell_type": "code",
      "metadata": {
        "colab": {
          "base_uri": "https://localhost:8080/"
        },
        "id": "d4NlANYPtEC5",
        "outputId": "83a7b14d-eb77-4c7e-8fc7-96c401d76424"
      },
      "source": [
        "maxcut_result = optimize_weighted_maxcut(layers = 1)"
      ],
      "execution_count": 38,
      "outputs": [
        {
          "output_type": "stream",
          "text": [
            "No of Layers =>  1\n",
            "Score after step 5 =>  13.0491262\n",
            "Score after step 10 =>  13.7731035\n",
            "Score after step 15 =>  13.9825451\n",
            "Score after step 20 =>  13.9983912\n",
            "Score after step 25 =>  13.9998561\n",
            "Score after step 30 =>  13.9999870\n",
            "Score after step 35 =>  13.9999988\n",
            "Score after step 40 =>  13.9999999\n",
            "Score after step 45 =>  14.0000000\n",
            "Score after step 50 =>  14.0000000\n",
            "Score after step 55 =>  14.0000000\n",
            "Score after step 60 =>  14.0000000\n",
            "Score after step 65 =>  14.0000000\n",
            "Score after step 70 =>  14.0000000\n",
            "Score after step 75 =>  14.0000000\n",
            "Score after step 80 =>  14.0000000\n",
            "Score after step 85 =>  14.0000000\n",
            "Score after step 90 =>  14.0000000\n",
            "Score after step 95 =>  14.0000000\n",
            "Score after step 100 =>  14.0000000\n",
            "Optimized (gamma, beta) parameters:\n",
            "[[-0.61547971]\n",
            " [-1.26305647]]\n",
            "Most frequently sampled bit string is: 010\n"
          ],
          "name": "stdout"
        }
      ]
    },
    {
      "cell_type": "markdown",
      "metadata": {
        "id": "vw-QI4hGz8fc"
      },
      "source": [
        "![case1_solved.png](data:image/png;base64,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)"
      ]
    },
    {
      "cell_type": "code",
      "metadata": {
        "id": "724mePnwtVpu"
      },
      "source": [
        ""
      ],
      "execution_count": null,
      "outputs": []
    }
  ]
}