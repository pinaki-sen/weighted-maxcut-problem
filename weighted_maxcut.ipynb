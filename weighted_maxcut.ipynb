{
  "nbformat": 4,
  "nbformat_minor": 0,
  "metadata": {
    "colab": {
      "name": "weighted_maxcut.ipynb",
      "provenance": [],
      "collapsed_sections": [
        "N-IapU5495qy",
        "Z8yU6WXU_CRX",
        "HQPQAhPt_cJS",
        "aYl4nA1JDfE4",
        "lazVnWLMdEU6",
        "e1zEVV6Jg__2",
        "8kzqKVoSfayd",
        "NqDEfBHtiN2V"
      ]
    },
    "kernelspec": {
      "name": "python3",
      "display_name": "Python 3"
    }
  },
  "cells": [
    {
      "cell_type": "markdown",
      "metadata": {
        "id": "N-IapU5495qy"
      },
      "source": [
        "# Weighted MAXCUT Problem"
      ]
    },
    {
      "cell_type": "markdown",
      "metadata": {
        "id": "qo8NsS0T995H"
      },
      "source": [
        "## Problem Statement : \n",
        "The [MaxCut problem](https://en.wikipedia.org/wiki/Maximum_cut) is a well-known optimization problem in which the nodes of a given undirected graph have to be divided in two sets (often referred as the set of “white” and “black” nodes) such that the number of edges connecting a white node with a black node are maximized. The MaxCut problem is a problem on which the QAOA algorithm has proved to be useful (for an explanation of the QAOA algorithm you can read [this blogpost](https://www.mustythoughts.com/quantum-approximate-optimization-algorithm-explained)).\n",
        "\n",
        "At [this link](https://lucaman99.github.io/new_blog/2020/mar16.html) you can find an explicit implementation of the QAOA algorithm to solve the MaxCut problem for the simpler case of an unweighted graph. We ask you to generalize the above code to include also the solution for the case of weighted graphs. You can use the same code or you can also do an alternative implementation using, for example, qiskit. The important point is that you do not make use of any built-in QAOA functionalities."
      ]
    },
    {
      "cell_type": "markdown",
      "metadata": {
        "id": "Z8yU6WXU_CRX"
      },
      "source": [
        "# Required Installation and Imports"
      ]
    },
    {
      "cell_type": "code",
      "metadata": {
        "id": "B28aU267-7od"
      },
      "source": [
        "!pip install pennylane --upgrade"
      ],
      "execution_count": null,
      "outputs": []
    },
    {
      "cell_type": "code",
      "metadata": {
        "id": "TuxD8oAS_VCG"
      },
      "source": [
        "import pennylane as qml\n",
        "from pennylane import numpy as np"
      ],
      "execution_count": 54,
      "outputs": []
    },
    {
      "cell_type": "markdown",
      "metadata": {
        "id": "HQPQAhPt_cJS"
      },
      "source": [
        "# Test Cases"
      ]
    },
    {
      "cell_type": "markdown",
      "metadata": {
        "id": "ENsx4bJJ_5xN"
      },
      "source": [
        "Each of the test cases here basically represented by three parameters. \n",
        "\n",
        "1. n_wires which denotes number of nodes in the graph as well as the number of qubits that  will be used in the quantum circuit. \n",
        "\n",
        "2. graph - each element of this list represents each edge of the graph by mentioning the number of two nodes of that edge. \n",
        "\n",
        "3. weight - this list contains information about the weights associated with each nodes. \n",
        "\n",
        "Importantly, the sequance of edges followed in the 'graph', the same sequence must be followed in the 'weight' too. "
      ]
    },
    {
      "cell_type": "code",
      "metadata": {
        "id": "ZVFWZxcO_Zrs"
      },
      "source": [
        "# n_wires = 3\n",
        "# graph = [(0,1), (1,2), (0,2)]\n",
        "# weight = [10, 1, 10]\n",
        "\n",
        "\n",
        "# n_wires = 4\n",
        "# graph = [(0, 1), (0, 3), (1, 2), (2, 3)]\n",
        "# weight = [1, 1, 1, 1]\n",
        "\n",
        "\n",
        "\n",
        "# n_wires = 5\n",
        "# graph = [(0,1), (0,2), (1,2), (1,3), (2,3), (3,4)]\n",
        "# weight = [5, 1, 7, 4, 2, 3]\n",
        "\n",
        "\n"
      ],
      "execution_count": null,
      "outputs": []
    },
    {
      "cell_type": "markdown",
      "metadata": {
        "id": "OL3VKza6BMd5"
      },
      "source": [
        "Test cases written here are commented out because the purpose here is to just show the format we are following to represent the wighted graph. All the test cases has been tested upon in the later section with proper description and visualization. "
      ]
    },
    {
      "cell_type": "markdown",
      "metadata": {
        "id": "aYl4nA1JDfE4"
      },
      "source": [
        "# Theoretical Discussion"
      ]
    },
    {
      "cell_type": "markdown",
      "metadata": {
        "id": "rNBFayDmDjlw"
      },
      "source": [
        "The main moto of this problem is to seperate the whole set of nodes in two subsets $A$ and $B$ such that the sum of weights of edges that have different types of nodes at their ends become the maximum possible value. \n",
        "\n",
        "In other words, we have to find a partition through the whole graph, such that sum of weights of edges that the partition passes becomes the maximum among all possible cuts. \n",
        "\n",
        "We can convert this to a simple mathematical expression. \n",
        "\n",
        ">>>$C(z) = \\sum \\limits _{\\alpha=1} ^{m} C_{\\alpha}(z) $\n",
        "\n",
        "\n",
        "\n",
        "Here $C(z)$ represents the score of a specific partition through the graph. $\\alpha$ iterates from 1 to m where m is the number of edges present. for each edge, $C_{\\alpha}(z)$ represents the score associated with each edge. $C_{\\alpha}(z)$ is equal to the weight of the edge if the partition passes through that edge and equal to $0$, if not. \n",
        "\n"
      ]
    },
    {
      "cell_type": "markdown",
      "metadata": {
        "id": "K6MENVUVH2IK"
      },
      "source": [
        "# Representing in terms of Quantum Circuit"
      ]
    },
    {
      "cell_type": "markdown",
      "metadata": {
        "id": "qXJHHw_wJfGe"
      },
      "source": [
        "As we have already defined a score value for a cut, we have to define that in terms of unitary ooperators that can be implemented on the quantum circuit. \n",
        "\n",
        "While representing the partition using computational basis states, we can represent the terms in $C(z)$ as operators acting on the states. \n",
        "\n",
        ">>> $C_{\\alpha} = \\frac{1}{2} W (1-\\sigma_z^j \\sigma_z^k) $\n",
        "\n",
        "Here the $\\alpha$th edge is the edge connecting $j$th and $k$th nodes. For each node $C_{\\alpha}$ will be equal to the weight of the edge if the partition goes between $j$th and $k$th nodes and equal to $0$ if doesn't pass because the operator $(1-\\sigma_z^j \\sigma_z^k)$ has eigenvalue $1$, iff $j$th and $k$th qubit have different z-axis measurement values. \n",
        "\n",
        "\n"
      ]
    },
    {
      "cell_type": "markdown",
      "metadata": {
        "id": "rIl8DnCtNZQ9"
      },
      "source": [
        "Initially the circuit is converted to equal superposition state by applying Hadamard gate in each individual qubit, also known as $|+_{n}>$ state. \n",
        "\n",
        "The circuit consists of $L$ layers of $U_B$ and $U_C$ gates. In each layer, one $U_B$ and one $U_C$ is associated with one $\\beta$ and $\\gamma$ parameter. Therefore each layers having 2 params $\\beta$ and $\\gamma$, the whole $L$ layered circuit is consist of $2L$ parameters. \n",
        "\n",
        "Now coming to each of the layers, $U_B$ is single qubit operator, implemented on each of the individual qubits and it is basically a $R_X$ gate with parameter $2\\beta$. $U_C$ whereas acts on two qubits. It is implemented on those two nodes who are connected by an edge in the graph. $U_C$ consists of a $R_Z$ gate with parameter $(-w\\gamma)$ sandwitched between two CNOT gates. "
      ]
    },
    {
      "cell_type": "markdown",
      "metadata": {
        "id": "lazVnWLMdEU6"
      },
      "source": [
        "## Defining $U_B$ operator"
      ]
    },
    {
      "cell_type": "code",
      "metadata": {
        "id": "SdF3ExXVdbBj"
      },
      "source": [
        "def U_B(beta):\n",
        "    for qubit in range(n_wires):\n",
        "        qml.RX(2*beta, wires=qubit)"
      ],
      "execution_count": 55,
      "outputs": []
    },
    {
      "cell_type": "markdown",
      "metadata": {
        "id": "e1zEVV6Jg__2"
      },
      "source": [
        "## Defining $U_C$ operator"
      ]
    },
    {
      "cell_type": "code",
      "metadata": {
        "id": "BZGrfBK0BrW5"
      },
      "source": [
        "def U_C(gamma):\n",
        "    for idx in range(n_wires):\n",
        "\n",
        "        qubit1 = graph[idx][0]\n",
        "        qubit2 = graph[idx][1]\n",
        "        w = weight[idx]\n",
        "        \n",
        "        qml.CNOT(wires = [qubit1, qubit2])\n",
        "        qml.RZ((-1)*w*gamma, wires = qubit2)\n",
        "        qml.CNOT(wires = [qubit1, qubit2])\n",
        "\n",
        "        "
      ],
      "execution_count": 58,
      "outputs": []
    },
    {
      "cell_type": "markdown",
      "metadata": {
        "id": "8kzqKVoSfayd"
      },
      "source": [
        "## Computational Basis Measurement"
      ]
    },
    {
      "cell_type": "markdown",
      "metadata": {
        "id": "9wuO66XRhOsr"
      },
      "source": [
        "To sample a measurement of multiple qubits in computational basis, we define this Hermitian operator. The eigenvalues of the operator are the qubit measurement values in integer form."
      ]
    },
    {
      "cell_type": "code",
      "metadata": {
        "id": "wHp_8DpphKyj"
      },
      "source": [
        "def comp_basis_measurement(wires):\n",
        "    n_wires = len(wires)\n",
        "    return qml.Hermitian(np.diag(range(2 ** n_wires)), wires=wires)"
      ],
      "execution_count": null,
      "outputs": []
    },
    {
      "cell_type": "markdown",
      "metadata": {
        "id": "NqDEfBHtiN2V"
      },
      "source": [
        "# Creating the circuit"
      ]
    },
    {
      "cell_type": "markdown",
      "metadata": {
        "id": "fVfSrugFjUEB"
      },
      "source": [
        "First we are creating a device with wires same as the number of nodes present in the graph"
      ]
    },
    {
      "cell_type": "code",
      "metadata": {
        "id": "oJ7q6qVojP3W"
      },
      "source": [
        "dev = qml.device(\"default.qubit\", wires=n_wires, analytic=True, shots=1)"
      ],
      "execution_count": null,
      "outputs": []
    },
    {
      "cell_type": "markdown",
      "metadata": {
        "id": "To3E_MUpjhTC"
      },
      "source": [
        "We will define a $PauliZ_2$, which will be used to measure the expectatio value at the end of the circuit"
      ]
    },
    {
      "cell_type": "code",
      "metadata": {
        "id": "FVBiaIU2j7Ft"
      },
      "source": [
        "pauliZ = [[1, 0], [0, -1]]\n",
        "\n",
        "pauliZ_2 = np.kron(pauliZ, pauliZ)"
      ],
      "execution_count": null,
      "outputs": []
    },
    {
      "cell_type": "markdown",
      "metadata": {
        "id": "IwLRC32TkOXp"
      },
      "source": [
        "Now the total circuit we will define and call the operators as a function one by one we defined previously. \n",
        "\n",
        "Intially the circuit is initialized as zero state on each qubit. \n",
        "\n",
        "Then we will apply Hadamard on each qubit to create equal superposition. \n",
        "\n",
        "After that $U_C$ and $U_B$ operator will be called $L$ times, where $L$ stands for the number of layers decided. \n",
        "\n",
        "Finally, we measure expectation value of each of the edges on the PauliZ_2 basis defined previously. "
      ]
    },
    {
      "cell_type": "code",
      "metadata": {
        "id": "W8D5xmIWkLx7"
      },
      "source": [
        "@qml.qnode(dev)\n",
        "def circuit(gamma, beta, edge=None, layers=1):\n",
        "\n",
        "    for qubit in range(n_wires):\n",
        "        qml.Hadamard(wires = qubit)\n",
        "\n",
        "    for l in range(layers):\n",
        "        U_C(gamma[l])\n",
        "        U_B(beta[l])\n",
        "\n",
        "    if edge is None:\n",
        "        return qml.sample(comp_basis_measurement(range(n_wires)))\n",
        "\n",
        "    return qml.expval(qml.Hermitian(pauliZ_2, wires=edge))\n",
        "\n",
        "\n"
      ],
      "execution_count": null,
      "outputs": []
    },
    {
      "cell_type": "markdown",
      "metadata": {
        "id": "D2MxDCojCowo"
      },
      "source": [
        "**Important - although the device has been initialized and circuit has been defined here for ease of understanding, we will again write the exact same code inside the *optimize_weighted_maxcut()* function later. Bacause each time we implement the code on different graphs with different number of nodes, it requires us to reinitialize the device again with different number of wires within it. So for the ease of implementation we included the *device initialization* and *circuit()* function in the *optimize_weighted_graph()*.**"
      ]
    },
    {
      "cell_type": "markdown",
      "metadata": {
        "id": "NNoDB9mVmkqs"
      },
      "source": [
        "# Optimization"
      ]
    },
    {
      "cell_type": "code",
      "metadata": {
        "id": "fy7VdMUAmoj8"
      },
      "source": [
        "def optimize_weighted_maxcut(layers = 1):\n",
        "\n",
        "    dev = qml.device(\"default.qubit\", wires=n_wires, analytic=True, shots=1)\n",
        "\n",
        "    @qml.qnode(dev)\n",
        "    def circuit(gamma, beta, edge=None, layers=1):\n",
        "\n",
        "        for qubit in range(n_wires):\n",
        "            qml.Hadamard(wires = qubit)\n",
        "\n",
        "        for l in range(layers):\n",
        "            U_C(gamma[l])\n",
        "            U_B(beta[l])\n",
        "\n",
        "        if edge is None:\n",
        "            return qml.sample(comp_basis_measurement(range(n_wires)))\n",
        "\n",
        "        return qml.expval(qml.Hermitian(pauliZ_2, wires=edge))\n",
        "\n",
        "\n",
        "    print(\"No of Layers => \", layers)\n",
        "\n",
        "    init_params = 0.01 * np.random.rand(2, layers)\n",
        "\n",
        "\n",
        "\n",
        "    def obj_func(params):\n",
        "\n",
        "        gamma = params[0]\n",
        "        beta = params[1]\n",
        "\n",
        "        score = 0\n",
        "        \n",
        "        for idx in range(n_wires):\n",
        "            score -= 0.5 * (1 - weight[idx] * circuit(gamma, beta, edge=graph[idx], layers=layers))\n",
        "\n",
        "        return score\n",
        "\n",
        "    optimizer = qml.AdagradOptimizer(stepsize = 0.5)\n",
        "\n",
        "    params = init_params\n",
        "\n",
        "    n_iters = 120\n",
        "\n",
        "    for iter in range(n_iters):\n",
        "        params = optimizer.step(obj_func, params)\n",
        "\n",
        "        if ((iter+1)%10 == 0):\n",
        "            print (\"Score after step {} => {: .7f}\".format(iter+1, (-1)*obj_func(params)))\n",
        "\n",
        "    n_samples = 100\n",
        "    bit_strings = []\n",
        "\n",
        "    for i in range(n_samples):\n",
        "        gamma = params[0]\n",
        "        beta = params[1]\n",
        "        bit_string = int(circuit(gamma, beta, \n",
        "                                 edge = None, \n",
        "                                 layers = layers))\n",
        "        bit_strings.append(bit_string)\n",
        "\n",
        "        \n",
        "    counts = np.bincount(np.array(bit_strings))\n",
        "    most_freq_bit_string = np.argmax(counts)\n",
        "\n",
        "    print(\"Optimized (gamma, beta) parameters:\\n{}\".format(params[:, :layers]))\n",
        "    print(\"Most frequently sampled bit string is: {:05b}\".format(most_freq_bit_string))\n",
        "    print(\"\\n\\n\")\n",
        "\n",
        "    return ((-1)*obj_func(params), bit_strings)"
      ],
      "execution_count": 149,
      "outputs": []
    },
    {
      "cell_type": "markdown",
      "metadata": {
        "id": "AtxMQyKisa7k"
      },
      "source": [
        "# Test cases"
      ]
    },
    {
      "cell_type": "markdown",
      "metadata": {
        "id": "8cjhj8IX79gd"
      },
      "source": [
        "### Some important notation and color coding used in the graph representation\n",
        "\n",
        "Intially the unpartitioned graphs are drawn in $Black$ and $white$ only with node identity and weights of edges written on each node and edge respectively. \n",
        "\n",
        "The partitioned graph is represented with various $colors$ for the each of understanding. The $Blue$ colored curved line with an $arrow$ in one end shows the partion on the graph. All the edges cut by that partition is shown in $Red$ color and rest of the edges are in $Black$. After partitioning, the nodes are divided into two sets, which are shown in $Green$ and $Purple$ respectively. \n",
        "\n",
        "\n",
        "***Important - For all the test cases, various no. of layers circuit has been tried while experimenting but here only the least one with considerable accuracy has been shown only***"
      ]
    },
    {
      "cell_type": "markdown",
      "metadata": {
        "id": "UtbiPO-47qti"
      },
      "source": [
        "## Test Case 1"
      ]
    },
    {
      "cell_type": "markdown",
      "metadata": {
        "id": "9zz-ZEPP9y0J"
      },
      "source": [
        "This graph consists of three nodes and three edges, among which two edges have weights 10 and other one has weight 1. "
      ]
    },
    {
      "cell_type": "code",
      "metadata": {
        "id": "lodlIeE4sg5n"
      },
      "source": [
        "n_wires = 3\n",
        "graph = [(0,1), (1,2), (0,2)]\n",
        "weight = [10.0, 1.0, 10.0]\n"
      ],
      "execution_count": 132,
      "outputs": []
    },
    {
      "cell_type": "markdown",
      "metadata": {
        "id": "wSDzmFFwyn0M"
      },
      "source": [
        "![case1_unsolved.png](data:image/png;base64,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)"
      ]
    },
    {
      "cell_type": "code",
      "metadata": {
        "colab": {
          "base_uri": "https://localhost:8080/"
        },
        "id": "d4NlANYPtEC5",
        "outputId": "18da8bdc-4c78-4325-f944-87214f776d5a"
      },
      "source": [
        "result_layer_1 = optimize_weighted_maxcut(layers = 1)"
      ],
      "execution_count": 133,
      "outputs": [
        {
          "output_type": "stream",
          "text": [
            "No of Layers =>  1\n",
            "Score after step 10 =>  2.4797634\n",
            "Score after step 20 =>  9.1759125\n",
            "Score after step 30 =>  8.0713701\n",
            "Score after step 40 =>  8.8986986\n",
            "Score after step 50 =>  9.3450827\n",
            "Score after step 60 =>  9.5212575\n",
            "Score after step 70 =>  9.5885819\n",
            "Score after step 80 =>  9.6141117\n",
            "Score after step 90 =>  9.6237942\n",
            "Score after step 100 =>  9.6274740\n",
            "Optimized (gamma, beta) parameters:\n",
            "[[-0.51495025]\n",
            " [ 0.47558505]]\n",
            "Most frequently sampled bit string is: 011\n",
            "\n",
            "\n",
            "\n"
          ],
          "name": "stdout"
        }
      ]
    },
    {
      "cell_type": "code",
      "metadata": {
        "colab": {
          "base_uri": "https://localhost:8080/"
        },
        "id": "Jgl94axJ5Uw9",
        "outputId": "f5608636-16c1-4478-fd58-9a727c69ee99"
      },
      "source": [
        "result_layer_2 = optimize_weighted_maxcut(layers = 2)"
      ],
      "execution_count": 134,
      "outputs": [
        {
          "output_type": "stream",
          "text": [
            "No of Layers =>  2\n",
            "Score after step 10 =>  0.4727220\n",
            "Score after step 20 =>  6.4969871\n",
            "Score after step 30 =>  5.9274456\n",
            "Score after step 40 =>  9.9780548\n",
            "Score after step 50 =>  10.0460350\n",
            "Score after step 60 =>  10.8916321\n",
            "Score after step 70 =>  9.1070196\n",
            "Score after step 80 =>  9.8131832\n",
            "Score after step 90 =>  10.1673002\n",
            "Score after step 100 =>  10.3832345\n",
            "Optimized (gamma, beta) parameters:\n",
            "[[ 0.50766728  0.50355068]\n",
            " [ 0.98714894 -0.23554857]]\n",
            "Most frequently sampled bit string is: 100\n",
            "\n",
            "\n",
            "\n"
          ],
          "name": "stdout"
        }
      ]
    },
    {
      "cell_type": "code",
      "metadata": {
        "colab": {
          "base_uri": "https://localhost:8080/"
        },
        "id": "5lhFxCAA5YTg",
        "outputId": "a10b3ac0-c3d1-4521-8b9a-dfbb0f0f3c4e"
      },
      "source": [
        "result_layer_3 = optimize_weighted_maxcut(layers = 3)"
      ],
      "execution_count": 135,
      "outputs": [
        {
          "output_type": "stream",
          "text": [
            "No of Layers =>  3\n",
            "Score after step 10 => -0.2791099\n",
            "Score after step 20 =>  5.5789787\n",
            "Score after step 30 =>  8.7584667\n",
            "Score after step 40 =>  10.5815141\n",
            "Score after step 50 =>  6.7752574\n",
            "Score after step 60 =>  9.7616467\n",
            "Score after step 70 =>  10.6443366\n",
            "Score after step 80 =>  10.7156089\n",
            "Score after step 90 =>  10.3284025\n",
            "Score after step 100 =>  10.6094188\n",
            "Optimized (gamma, beta) parameters:\n",
            "[[-0.48352685  1.4282914  -0.77671925]\n",
            " [ 2.05997777  1.83025401  1.58612476]]\n",
            "Most frequently sampled bit string is: 100\n",
            "\n",
            "\n",
            "\n"
          ],
          "name": "stdout"
        }
      ]
    },
    {
      "cell_type": "code",
      "metadata": {
        "colab": {
          "base_uri": "https://localhost:8080/"
        },
        "id": "cg3p4B5p5ZHj",
        "outputId": "64cb51b4-0ee3-4c10-8e19-7de7cc827299"
      },
      "source": [
        "result_layer_4 = optimize_weighted_maxcut(layers = 4)"
      ],
      "execution_count": 136,
      "outputs": [
        {
          "output_type": "stream",
          "text": [
            "No of Layers =>  4\n",
            "Score after step 10 =>  4.4964044\n",
            "Score after step 20 =>  3.8729146\n",
            "Score after step 30 =>  0.5777400\n",
            "Score after step 40 =>  5.0608794\n",
            "Score after step 50 =>  4.0889390\n",
            "Score after step 60 =>  10.3367572\n",
            "Score after step 70 =>  10.5984392\n",
            "Score after step 80 =>  10.8834443\n",
            "Score after step 90 =>  10.9695065\n",
            "Score after step 100 =>  10.9489615\n",
            "Optimized (gamma, beta) parameters:\n",
            "[[-0.51352681 -0.06623642  0.43008821  0.71881128]\n",
            " [-1.03632732 -0.2169661   1.31175744  1.57835043]]\n",
            "Most frequently sampled bit string is: 011\n",
            "\n",
            "\n",
            "\n"
          ],
          "name": "stdout"
        }
      ]
    },
    {
      "cell_type": "code",
      "metadata": {
        "colab": {
          "base_uri": "https://localhost:8080/"
        },
        "id": "ZNt-WvUw5ZnD",
        "outputId": "53aa0bf9-88be-46ac-9443-340b8e62cf8d"
      },
      "source": [
        "result_layer_5 = optimize_weighted_maxcut(layers = 5)"
      ],
      "execution_count": 137,
      "outputs": [
        {
          "output_type": "stream",
          "text": [
            "No of Layers =>  5\n",
            "Score after step 10 =>  6.7615399\n",
            "Score after step 20 => -0.5859293\n",
            "Score after step 30 =>  3.5717466\n",
            "Score after step 40 =>  1.7938380\n",
            "Score after step 50 =>  5.1021564\n",
            "Score after step 60 =>  0.6139162\n",
            "Score after step 70 =>  5.0943986\n",
            "Score after step 80 =>  9.6086891\n",
            "Score after step 90 =>  5.5025918\n",
            "Score after step 100 =>  10.1882682\n",
            "Optimized (gamma, beta) parameters:\n",
            "[[ 0.04846837  1.09042769  0.51745129  2.06096913  0.71804306]\n",
            " [ 3.36812843 -0.50504909  0.56140218 -0.53005832  1.1487762 ]]\n",
            "Most frequently sampled bit string is: 100\n",
            "\n",
            "\n",
            "\n"
          ],
          "name": "stdout"
        }
      ]
    },
    {
      "cell_type": "code",
      "metadata": {
        "colab": {
          "base_uri": "https://localhost:8080/"
        },
        "id": "ocIvtECg5aQA",
        "outputId": "333b521e-0b6b-4281-aa1b-f78591665b04"
      },
      "source": [
        "result_layer_6 = optimize_weighted_maxcut(layers = 6)"
      ],
      "execution_count": 138,
      "outputs": [
        {
          "output_type": "stream",
          "text": [
            "No of Layers =>  6\n",
            "Score after step 10 => -4.4704693\n",
            "Score after step 20 =>  3.3008123\n",
            "Score after step 30 =>  3.3942894\n",
            "Score after step 40 =>  2.2386935\n",
            "Score after step 50 =>  3.3382820\n",
            "Score after step 60 =>  10.6680362\n",
            "Score after step 70 =>  10.8392712\n",
            "Score after step 80 =>  10.9627772\n",
            "Score after step 90 =>  10.9915360\n",
            "Score after step 100 =>  10.9977354\n",
            "Optimized (gamma, beta) parameters:\n",
            "[[ 0.51087248  0.54583004  1.18093458  0.65904417  2.07830181  1.42846805]\n",
            " [-0.47453707  1.48252868 -0.09618956  0.00839618  0.1246405   1.70151027]]\n",
            "Most frequently sampled bit string is: 100\n",
            "\n",
            "\n",
            "\n"
          ],
          "name": "stdout"
        }
      ]
    },
    {
      "cell_type": "markdown",
      "metadata": {
        "id": "vw-QI4hGz8fc"
      },
      "source": [
        "![case1_solved.png](data:image/png;base64,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)"
      ]
    },
    {
      "cell_type": "code",
      "metadata": {
        "colab": {
          "base_uri": "https://localhost:8080/",
          "height": 584
        },
        "id": "wD22yyDfY8vC",
        "outputId": "1809d319-a8ad-4e63-fc84-44d3d80aded9"
      },
      "source": [
        "import matplotlib.pyplot as plt\n",
        "\n",
        "xticks = range(0, 8)\n",
        "xtick_labels = list(map(lambda x: format(x, \"03b\"), xticks))\n",
        "bins = np.arange(0, 9) - 0.5\n",
        "\n",
        "fig, (ax1, ax2) = plt.subplots(2, 3, figsize=(12, 8))\n",
        "\n",
        "plt.subplot(2, 3, 1)\n",
        "plt.title(\"n_layers=1\")\n",
        "plt.xlabel(\"Bitstrings\")\n",
        "plt.ylabel(\"Frequency\")\n",
        "plt.xticks(xticks, xtick_labels, rotation=\"vertical\")\n",
        "plt.hist(result_layer_1[1], bins=bins)\n",
        "\n",
        "plt.subplot(2, 3, 2)\n",
        "plt.title(\"n_layers=2\")\n",
        "plt.xlabel(\"Bitstrings\")\n",
        "plt.ylabel(\"Frequency\")\n",
        "plt.xticks(xticks, xtick_labels, rotation=\"vertical\")\n",
        "plt.hist(result_layer_2[1], bins=bins)\n",
        "\n",
        "plt.subplot(2, 3, 3)\n",
        "plt.title(\"n_layers=3\")\n",
        "plt.xlabel(\"Bitstrings\")\n",
        "plt.ylabel(\"Frequency\")\n",
        "plt.xticks(xticks, xtick_labels, rotation=\"vertical\")\n",
        "plt.hist(result_layer_3[1], bins=bins)\n",
        "\n",
        "plt.subplot(2, 3, 4)\n",
        "plt.title(\"n_layers=4\")\n",
        "plt.xlabel(\"Bitstrings\")\n",
        "plt.ylabel(\"Frequency\")\n",
        "plt.xticks(xticks, xtick_labels, rotation=\"vertical\")\n",
        "plt.hist(result_layer_4[1], bins=bins)\n",
        "\n",
        "plt.subplot(2, 3, 5)\n",
        "plt.title(\"n_layers=5\")\n",
        "plt.xlabel(\"Bitstrings\")\n",
        "plt.ylabel(\"Frequency\")\n",
        "plt.xticks(xticks, xtick_labels, rotation=\"vertical\")\n",
        "plt.hist(result_layer_5[1], bins=bins)\n",
        "\n",
        "plt.subplot(2, 3, 6)\n",
        "plt.title(\"n_layers=6\")\n",
        "plt.xlabel(\"Bitstrings\")\n",
        "plt.ylabel(\"Frequency\")\n",
        "plt.xticks(xticks, xtick_labels, rotation=\"vertical\")\n",
        "plt.hist(result_layer_6[1], bins=bins)\n",
        "\n",
        "plt.tight_layout()\n",
        "plt.show()"
      ],
      "execution_count": 139,
      "outputs": [
        {
          "output_type": "display_data",
          "data": {
            "image/png": "[encoded data removed]",
            "text/plain": [
              "<Figure size 864x576 with 6 Axes>"
            ]
          },
          "metadata": {
            "tags": [],
            "needs_background": "light"
          }
        }
      ]
    },
    {
      "cell_type": "markdown",
      "metadata": {
        "id": "DHTgkXDL-1WK"
      },
      "source": [
        "*Conclusion - Here the MAXCUT solution is quite simple and sum of weiights of cut edges is $(10+10)=20$*"
      ]
    },
    {
      "cell_type": "markdown",
      "metadata": {
        "id": "r0G5klXbFU7V"
      },
      "source": [
        "## Test case 2"
      ]
    },
    {
      "cell_type": "markdown",
      "metadata": {
        "id": "P4aOzDTt_Mak"
      },
      "source": [
        "This test case although shown as weighted graph, is basically a unweighted grpah and the all weights are set to $1$ to make fir as input to this solution. \n",
        "\n",
        "This graph I tried to check how general the solution is. "
      ]
    },
    {
      "cell_type": "code",
      "metadata": {
        "id": "724mePnwtVpu"
      },
      "source": [
        "n_wires = 4\n",
        "graph = [(0, 1), (0, 3), (1, 2), (2, 3)]\n",
        "weight = [1.0, 1.0, 1.0, 1.0]\n"
      ],
      "execution_count": 141,
      "outputs": []
    },
    {
      "cell_type": "markdown",
      "metadata": {
        "id": "forC4Dru3Hz_"
      },
      "source": [
        "![case2_unsolved.png](data:image/png;base64,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)"
      ]
    },
    {
      "cell_type": "code",
      "metadata": {
        "colab": {
          "base_uri": "https://localhost:8080/"
        },
        "id": "hwNl9p3iFf0c",
        "outputId": "7516c95c-a2dc-417f-f1d0-3f74e7590900"
      },
      "source": [
        "result_layer_1 = optimize_weighted_maxcut(layers = 1)"
      ],
      "execution_count": 142,
      "outputs": [
        {
          "output_type": "stream",
          "text": [
            "No of Layers =>  1\n",
            "Score after step 10 =>  2.9956645\n",
            "Score after step 20 =>  2.9999166\n",
            "Score after step 30 =>  2.9999985\n",
            "Score after step 40 =>  3.0000000\n",
            "Score after step 50 =>  3.0000000\n",
            "Score after step 60 =>  3.0000000\n",
            "Score after step 70 =>  3.0000000\n",
            "Score after step 80 =>  3.0000000\n",
            "Score after step 90 =>  3.0000000\n",
            "Score after step 100 =>  3.0000000\n",
            "Optimized (gamma, beta) parameters:\n",
            "[[0.78539816]\n",
            " [0.39269908]]\n",
            "Most frequently sampled bit string is: 0101\n",
            "\n",
            "\n",
            "\n"
          ],
          "name": "stdout"
        }
      ]
    },
    {
      "cell_type": "code",
      "metadata": {
        "colab": {
          "base_uri": "https://localhost:8080/"
        },
        "id": "JGYBZiyy6Nxa",
        "outputId": "3cac8843-c59c-4756-9ab2-0fe26ed848fd"
      },
      "source": [
        "result_layer_2 = optimize_weighted_maxcut(layers = 2)"
      ],
      "execution_count": 143,
      "outputs": [
        {
          "output_type": "stream",
          "text": [
            "No of Layers =>  2\n",
            "Score after step 10 =>  3.6912500\n",
            "Score after step 20 =>  3.9885669\n",
            "Score after step 30 =>  3.9994616\n",
            "Score after step 40 =>  3.9999610\n",
            "Score after step 50 =>  3.9999969\n",
            "Score after step 60 =>  3.9999998\n",
            "Score after step 70 =>  4.0000000\n",
            "Score after step 80 =>  4.0000000\n",
            "Score after step 90 =>  4.0000000\n",
            "Score after step 100 =>  4.0000000\n",
            "Optimized (gamma, beta) parameters:\n",
            "[[ 1.57079633  0.78539816]\n",
            " [ 0.39269861 -0.78539872]]\n",
            "Most frequently sampled bit string is: 1010\n",
            "\n",
            "\n",
            "\n"
          ],
          "name": "stdout"
        }
      ]
    },
    {
      "cell_type": "code",
      "metadata": {
        "colab": {
          "base_uri": "https://localhost:8080/"
        },
        "id": "ELTR5vUZ6Oqt",
        "outputId": "37d30cc2-c10e-4ef2-d503-3f6e75bc3b16"
      },
      "source": [
        "result_layer_3 = optimize_weighted_maxcut(layers = 3)"
      ],
      "execution_count": 144,
      "outputs": [
        {
          "output_type": "stream",
          "text": [
            "No of Layers =>  3\n",
            "Score after step 10 =>  3.5018042\n",
            "Score after step 20 =>  3.9944599\n",
            "Score after step 30 =>  3.9999053\n",
            "Score after step 40 =>  3.9999983\n",
            "Score after step 50 =>  4.0000000\n",
            "Score after step 60 =>  4.0000000\n",
            "Score after step 70 =>  4.0000000\n",
            "Score after step 80 =>  4.0000000\n",
            "Score after step 90 =>  4.0000000\n",
            "Score after step 100 =>  4.0000000\n",
            "Optimized (gamma, beta) parameters:\n",
            "[[ 0.18183474  1.31229444  0.92066122]\n",
            " [-0.21731856  0.4112965  -0.79900026]]\n",
            "Most frequently sampled bit string is: 1010\n",
            "\n",
            "\n",
            "\n"
          ],
          "name": "stdout"
        }
      ]
    },
    {
      "cell_type": "code",
      "metadata": {
        "colab": {
          "base_uri": "https://localhost:8080/"
        },
        "id": "IomLUeUy6PV5",
        "outputId": "1e34eefd-d72f-4bf8-df2a-71b874e33648"
      },
      "source": [
        "result_layer_4 = optimize_weighted_maxcut(layers = 4)"
      ],
      "execution_count": 145,
      "outputs": [
        {
          "output_type": "stream",
          "text": [
            "No of Layers =>  4\n",
            "Score after step 10 =>  3.6936956\n",
            "Score after step 20 =>  3.8777493\n",
            "Score after step 30 =>  3.9388511\n",
            "Score after step 40 =>  3.9849195\n",
            "Score after step 50 =>  3.9964682\n",
            "Score after step 60 =>  3.9991839\n",
            "Score after step 70 =>  3.9998120\n",
            "Score after step 80 =>  3.9999567\n",
            "Score after step 90 =>  3.9999900\n",
            "Score after step 100 =>  3.9999977\n",
            "Optimized (gamma, beta) parameters:\n",
            "[[-0.40280255 -0.1035949  -1.09822589  0.42692074]\n",
            " [ 0.4597881   0.79539967  0.52227808  0.63591589]]\n",
            "Most frequently sampled bit string is: 1010\n",
            "\n",
            "\n",
            "\n"
          ],
          "name": "stdout"
        }
      ]
    },
    {
      "cell_type": "code",
      "metadata": {
        "colab": {
          "base_uri": "https://localhost:8080/"
        },
        "id": "BgI7PRoB6QCa",
        "outputId": "b23945f9-a7a2-4ee8-be82-6b63df6b8f8d"
      },
      "source": [
        "result_layer_5 = optimize_weighted_maxcut(layers = 5)"
      ],
      "execution_count": 146,
      "outputs": [
        {
          "output_type": "stream",
          "text": [
            "No of Layers =>  5\n",
            "Score after step 10 =>  3.7011971\n",
            "Score after step 20 =>  3.3334335\n",
            "Score after step 30 =>  3.8302122\n",
            "Score after step 40 =>  3.9620657\n",
            "Score after step 50 =>  3.9920654\n",
            "Score after step 60 =>  3.9983602\n",
            "Score after step 70 =>  3.9996614\n",
            "Score after step 80 =>  3.9999300\n",
            "Score after step 90 =>  3.9999855\n",
            "Score after step 100 =>  3.9999970\n",
            "Optimized (gamma, beta) parameters:\n",
            "[[ 0.69176461  0.69785337 -0.27151457  0.29827006  1.83971143]\n",
            " [ 0.49032089  0.83513925  0.72936732  0.3247222  -0.01025179]]\n",
            "Most frequently sampled bit string is: 0101\n",
            "\n",
            "\n",
            "\n"
          ],
          "name": "stdout"
        }
      ]
    },
    {
      "cell_type": "code",
      "metadata": {
        "colab": {
          "base_uri": "https://localhost:8080/"
        },
        "id": "d9fj4f8J6Qt_",
        "outputId": "9e99fdfc-1b0a-494d-9a9b-436e07aaf636"
      },
      "source": [
        "result_layer_6 = optimize_weighted_maxcut(layers = 6)"
      ],
      "execution_count": 147,
      "outputs": [
        {
          "output_type": "stream",
          "text": [
            "No of Layers =>  6\n",
            "Score after step 10 =>  1.6438418\n",
            "Score after step 20 =>  3.5112701\n",
            "Score after step 30 =>  3.5665843\n",
            "Score after step 40 =>  3.8530393\n",
            "Score after step 50 =>  3.9480861\n",
            "Score after step 60 =>  3.9616875\n",
            "Score after step 70 =>  3.9360302\n",
            "Score after step 80 =>  3.9698976\n",
            "Score after step 90 =>  3.9964561\n",
            "Score after step 100 =>  3.9996051\n",
            "Optimized (gamma, beta) parameters:\n",
            "[[ 0.77437563  1.33604715 -0.23851299  0.28037391  0.20348283  0.49067582]\n",
            " [ 0.54233106 -0.16339663  0.67443918 -0.23750557  0.20107031 -0.00634532]]\n",
            "Most frequently sampled bit string is: 1010\n",
            "\n",
            "\n",
            "\n"
          ],
          "name": "stdout"
        }
      ]
    },
    {
      "cell_type": "markdown",
      "metadata": {
        "id": "kGA1yZ8G4y2c"
      },
      "source": [
        "![case2_solved.png](data:image/png;base64,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)"
      ]
    },
    {
      "cell_type": "code",
      "metadata": {
        "colab": {
          "base_uri": "https://localhost:8080/",
          "height": 584
        },
        "id": "h4PPxxNaiGc8",
        "outputId": "aaad25af-2229-4637-f34b-8c66b700cbca"
      },
      "source": [
        "import matplotlib.pyplot as plt\n",
        "\n",
        "xticks = range(0, 16)\n",
        "xtick_labels = list(map(lambda x: format(x, \"04b\"), xticks))\n",
        "bins = np.arange(0, 17) - 0.5\n",
        "\n",
        "fig, (ax1, ax2) = plt.subplots(2, 3, figsize=(15, 8))\n",
        "\n",
        "plt.subplot(2, 3, 1)\n",
        "plt.title(\"n_layers=1\")\n",
        "plt.xlabel(\"Bitstrings\")\n",
        "plt.ylabel(\"Frequency\")\n",
        "plt.xticks(xticks, xtick_labels, rotation=\"vertical\")\n",
        "plt.hist(result_layer_1[1], bins=bins)\n",
        "\n",
        "plt.subplot(2, 3, 2)\n",
        "plt.title(\"n_layers=2\")\n",
        "plt.xlabel(\"Bitstrings\")\n",
        "plt.ylabel(\"Frequency\")\n",
        "plt.xticks(xticks, xtick_labels, rotation=\"vertical\")\n",
        "plt.hist(result_layer_2[1], bins=bins)\n",
        "\n",
        "plt.subplot(2, 3, 3)\n",
        "plt.title(\"n_layers=3\")\n",
        "plt.xlabel(\"Bitstrings\")\n",
        "plt.ylabel(\"Frequency\")\n",
        "plt.xticks(xticks, xtick_labels, rotation=\"vertical\")\n",
        "plt.hist(result_layer_3[1], bins=bins)\n",
        "\n",
        "plt.subplot(2, 3, 4)\n",
        "plt.title(\"n_layers=4\")\n",
        "plt.xlabel(\"Bitstrings\")\n",
        "plt.ylabel(\"Frequency\")\n",
        "plt.xticks(xticks, xtick_labels, rotation=\"vertical\")\n",
        "plt.hist(result_layer_4[1], bins=bins)\n",
        "\n",
        "plt.subplot(2, 3, 5)\n",
        "plt.title(\"n_layers=5\")\n",
        "plt.xlabel(\"Bitstrings\")\n",
        "plt.ylabel(\"Frequency\")\n",
        "plt.xticks(xticks, xtick_labels, rotation=\"vertical\")\n",
        "plt.hist(result_layer_5[1], bins=bins)\n",
        "\n",
        "plt.subplot(2, 3, 6)\n",
        "plt.title(\"n_layers=6\")\n",
        "plt.xlabel(\"Bitstrings\")\n",
        "plt.ylabel(\"Frequency\")\n",
        "plt.xticks(xticks, xtick_labels, rotation=\"vertical\")\n",
        "plt.hist(result_layer_6[1], bins=bins)\n",
        "\n",
        "plt.tight_layout()\n",
        "plt.show()"
      ],
      "execution_count": 148,
      "outputs": [
        {
          "output_type": "display_data",
          "data": {
            "image/png": "[encoded data removed]",
            "text/plain": [
              "<Figure size 1080x576 with 6 Axes>"
            ]
          },
          "metadata": {
            "tags": [],
            "needs_background": "light"
          }
        }
      ]
    },
    {
      "cell_type": "markdown",
      "metadata": {
        "id": "Q-mxgCQC_vXb"
      },
      "source": [
        "*Conclusion - The partition passes through all four edges present in the graph. Sum of weights herre is $4$ which is the maximum possible value*"
      ]
    },
    {
      "cell_type": "markdown",
      "metadata": {
        "id": "_at3YatyFYN7"
      },
      "source": [
        "## Test Case 3"
      ]
    },
    {
      "cell_type": "markdown",
      "metadata": {
        "id": "IRUY038PAHVK"
      },
      "source": [
        "This one is the most complex among all three cases. It consists of $5$ nodes numbered from $0$ - $4$ and $6$ edges connecting them, with the weights written on them. "
      ]
    },
    {
      "cell_type": "code",
      "metadata": {
        "id": "PcJI0FvQFag2"
      },
      "source": [
        "n_wires = 5\n",
        "graph = [(0,1), (0,2), (1,2), (1,3), (2,3), (3,4)]\n",
        "weight = [5.0, 1.0, 7.0, 4.0, 2.0, 3.0]\n"
      ],
      "execution_count": 118,
      "outputs": []
    },
    {
      "cell_type": "markdown",
      "metadata": {
        "id": "qboEzGRg6TZG"
      },
      "source": [
        "![case3_unsolved.png](data:image/png;base64,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)"
      ]
    },
    {
      "cell_type": "code",
      "metadata": {
        "colab": {
          "base_uri": "https://localhost:8080/"
        },
        "id": "JdSuEjUxFgWA",
        "outputId": "7e040886-9562-47d8-ab43-93aa18b09d41"
      },
      "source": [
        "result_layer_1 = optimize_weighted_maxcut(layers = 1)"
      ],
      "execution_count": 119,
      "outputs": [
        {
          "output_type": "stream",
          "text": [
            "No of Layers =>  1\n",
            "Score after step 10 =>  4.3800390\n",
            "Score after step 20 =>  5.3163004\n",
            "Score after step 30 =>  5.7963822\n",
            "Score after step 40 =>  5.9514917\n",
            "Score after step 50 =>  6.0351685\n",
            "Score after step 60 =>  6.0779533\n",
            "Score after step 70 =>  6.0979146\n",
            "Score after step 80 =>  6.1068242\n",
            "Score after step 90 =>  6.1107153\n",
            "Score after step 100 =>  6.1123958\n",
            "Score after step 110 =>  6.1131171\n",
            "Score after step 120 =>  6.1134257\n",
            "Score after step 130 =>  6.1135575\n",
            "Score after step 140 =>  6.1136137\n",
            "Score after step 150 =>  6.1136376\n",
            "Optimized (gamma, beta) parameters:\n",
            "[[-0.1382598 ]\n",
            " [ 1.23094463]]\n",
            "Most frequently sampled bit string is: 01001\n",
            "\n",
            "\n",
            "\n"
          ],
          "name": "stdout"
        }
      ]
    },
    {
      "cell_type": "code",
      "metadata": {
        "colab": {
          "base_uri": "https://localhost:8080/"
        },
        "id": "C8QIJlDLzWZL",
        "outputId": "e1c7d3a2-3963-4cad-a711-0410d9c289d6"
      },
      "source": [
        "result_layer_3 = optimize_weighted_maxcut(layers = 3)"
      ],
      "execution_count": 121,
      "outputs": [
        {
          "output_type": "stream",
          "text": [
            "No of Layers =>  3\n",
            "Score after step 10 =>  7.1054461\n",
            "Score after step 20 =>  6.8896493\n",
            "Score after step 30 =>  7.3562312\n",
            "Score after step 40 =>  7.4560344\n",
            "Score after step 50 =>  7.7669496\n",
            "Score after step 60 =>  7.8991281\n",
            "Score after step 70 =>  7.9415296\n",
            "Score after step 80 =>  7.9953969\n",
            "Score after step 90 =>  8.0017844\n",
            "Score after step 100 =>  8.0275944\n",
            "Score after step 110 =>  8.0400097\n",
            "Score after step 120 =>  8.0518342\n",
            "Score after step 130 =>  8.0613125\n",
            "Score after step 140 =>  8.0694624\n",
            "Score after step 150 =>  8.0766313\n",
            "Optimized (gamma, beta) parameters:\n",
            "[[ 0.34586831  1.28283133  1.52644187]\n",
            " [ 1.33227121 -0.69862921 -0.16744012]]\n",
            "Most frequently sampled bit string is: 01001\n",
            "\n",
            "\n",
            "\n"
          ],
          "name": "stdout"
        }
      ]
    },
    {
      "cell_type": "code",
      "metadata": {
        "colab": {
          "base_uri": "https://localhost:8080/"
        },
        "id": "e9i7MlHuz3EB",
        "outputId": "cad10e37-8ed3-48e6-cde5-6934543e41f7"
      },
      "source": [
        "result_layer_5 = optimize_weighted_maxcut(layers = 5)"
      ],
      "execution_count": 123,
      "outputs": [
        {
          "output_type": "stream",
          "text": [
            "No of Layers =>  5\n",
            "Score after step 10 =>  2.0743686\n",
            "Score after step 20 =>  5.5711036\n",
            "Score after step 30 =>  8.2786905\n",
            "Score after step 40 =>  8.1051138\n",
            "Score after step 50 =>  8.2275897\n",
            "Score after step 60 =>  8.1844176\n",
            "Score after step 70 =>  8.4400342\n",
            "Score after step 80 =>  8.5336292\n",
            "Score after step 90 =>  8.7101701\n",
            "Score after step 100 =>  8.7069727\n",
            "Score after step 110 =>  8.7064993\n",
            "Score after step 120 =>  8.7679418\n",
            "Score after step 130 =>  8.7894423\n",
            "Score after step 140 =>  8.7970058\n",
            "Score after step 150 =>  8.8043079\n",
            "Optimized (gamma, beta) parameters:\n",
            "[[ 0.53842075  0.37209072  0.40984162  0.89311992 -0.9830643 ]\n",
            " [-0.39919495  0.08429728  0.99668837  0.68668371  1.27323657]]\n",
            "Most frequently sampled bit string is: 10110\n",
            "\n",
            "\n",
            "\n"
          ],
          "name": "stdout"
        }
      ]
    },
    {
      "cell_type": "code",
      "metadata": {
        "colab": {
          "base_uri": "https://localhost:8080/"
        },
        "id": "qfCYwj0_0fVV",
        "outputId": "807cad7b-b0a5-4e7f-d224-26a873a28248"
      },
      "source": [
        "result_layer_8 = optimize_weighted_maxcut(layers = 8)"
      ],
      "execution_count": 126,
      "outputs": [
        {
          "output_type": "stream",
          "text": [
            "No of Layers =>  8\n",
            "Score after step 10 =>  6.0257240\n",
            "Score after step 20 =>  2.9071833\n",
            "Score after step 30 =>  0.7444076\n",
            "Score after step 40 =>  1.9317052\n",
            "Score after step 50 =>  7.3203772\n",
            "Score after step 60 =>  7.6763419\n",
            "Score after step 70 =>  7.5582520\n",
            "Score after step 80 =>  7.6809170\n",
            "Score after step 90 =>  8.0341842\n",
            "Score after step 100 =>  7.0237230\n",
            "Score after step 110 =>  8.0191135\n",
            "Score after step 120 =>  7.6246022\n",
            "Score after step 130 =>  7.8245391\n",
            "Score after step 140 =>  8.0093226\n",
            "Score after step 150 =>  8.0491182\n",
            "Optimized (gamma, beta) parameters:\n",
            "[[ 2.02073914  0.29417432  0.53746804 -0.3245672   0.77304782  1.77142865\n",
            "   0.61693498  0.65861972]\n",
            " [ 0.8281189  -0.40411806  2.10811165  1.24726064 -0.45933673  1.43481017\n",
            "   0.03447598  1.47242451]]\n",
            "Most frequently sampled bit string is: 10110\n",
            "\n",
            "\n",
            "\n"
          ],
          "name": "stdout"
        }
      ]
    },
    {
      "cell_type": "code",
      "metadata": {
        "colab": {
          "base_uri": "https://localhost:8080/"
        },
        "id": "U93LRSNr0nJo",
        "outputId": "d8745c26-b5b1-4b08-e163-1808297e0321"
      },
      "source": [
        "result_layer_9 = optimize_weighted_maxcut(layers = 9)"
      ],
      "execution_count": 127,
      "outputs": [
        {
          "output_type": "stream",
          "text": [
            "No of Layers =>  9\n",
            "Score after step 10 =>  5.1130952\n",
            "Score after step 20 =>  3.9209312\n",
            "Score after step 30 =>  3.6271838\n",
            "Score after step 40 =>  4.2990644\n",
            "Score after step 50 =>  2.6038379\n",
            "Score after step 60 =>  4.3142722\n",
            "Score after step 70 =>  5.1789440\n",
            "Score after step 80 =>  7.1693157\n",
            "Score after step 90 =>  6.6584993\n",
            "Score after step 100 =>  8.7497379\n",
            "Score after step 110 =>  7.7359145\n",
            "Score after step 120 =>  8.7751609\n",
            "Score after step 130 =>  8.6327298\n",
            "Score after step 140 =>  8.8844299\n",
            "Score after step 150 =>  8.3373766\n",
            "Optimized (gamma, beta) parameters:\n",
            "[[ 2.63820647  2.69303682  0.29542615  0.84757425 -0.94520516 -0.12372252\n",
            "  -0.9692197  -1.07552769 -0.95289776]\n",
            " [ 1.6664731  -0.37204722  0.33235321  0.20483272  1.91878679  1.02063629\n",
            "   0.3357627   0.35898522 -1.03619348]]\n",
            "Most frequently sampled bit string is: 10110\n",
            "\n",
            "\n",
            "\n"
          ],
          "name": "stdout"
        }
      ]
    },
    {
      "cell_type": "code",
      "metadata": {
        "colab": {
          "base_uri": "https://localhost:8080/"
        },
        "id": "Z--YWSef4Z47",
        "outputId": "45caca9b-9525-4d9e-e853-dfda8f10b5a8"
      },
      "source": [
        "result_layer_10 = optimize_weighted_maxcut(layers = 10)"
      ],
      "execution_count": 128,
      "outputs": [
        {
          "output_type": "stream",
          "text": [
            "No of Layers =>  10\n",
            "Score after step 10 =>  3.3837316\n",
            "Score after step 20 =>  1.8066665\n",
            "Score after step 30 =>  0.6113653\n",
            "Score after step 40 =>  7.0679550\n",
            "Score after step 50 =>  4.1026325\n",
            "Score after step 60 =>  1.9974331\n",
            "Score after step 70 =>  5.8614750\n",
            "Score after step 80 =>  7.0101827\n",
            "Score after step 90 =>  7.7959242\n",
            "Score after step 100 =>  8.0664529\n",
            "Score after step 110 =>  8.2571389\n",
            "Score after step 120 =>  8.6954168\n",
            "Score after step 130 =>  8.6277719\n",
            "Score after step 140 =>  8.8778459\n",
            "Score after step 150 =>  8.9444203\n",
            "Optimized (gamma, beta) parameters:\n",
            "[[ 0.48517152  0.19563172  1.05039036  0.768665    0.22495292  0.27938135\n",
            "   0.47336257  0.76199222  1.58149956  1.33157646]\n",
            " [ 1.06093084 -0.16125032  0.01119344  1.17667013  0.72361957  1.05409722\n",
            "   0.82968154 -1.25596129  1.03677826  0.81137222]]\n",
            "Most frequently sampled bit string is: 01001\n",
            "\n",
            "\n",
            "\n"
          ],
          "name": "stdout"
        }
      ]
    },
    {
      "cell_type": "markdown",
      "metadata": {
        "id": "kTfo1dbb7Sem"
      },
      "source": [
        "![case3_solved.png](data:image/png;base64,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)"
      ]
    },
    {
      "cell_type": "markdown",
      "metadata": {
        "id": "a_kN21vcAkzf"
      },
      "source": [
        "*Conclusion - In this test case, the solution partition passes through $4$ out of $6$ edges, summing the weights to $(5+7+4+3) = 19$*"
      ]
    },
    {
      "cell_type": "code",
      "metadata": {
        "id": "G_ClX2NS05qt",
        "colab": {
          "base_uri": "https://localhost:8080/",
          "height": 571
        },
        "outputId": "431edbe9-b833-4bce-e752-a6b518161b27"
      },
      "source": [
        "import matplotlib.pyplot as plt\n",
        "\n",
        "xticks = range(0, 32)\n",
        "xtick_labels = list(map(lambda x: format(x, \"05b\"), xticks))\n",
        "bins = np.arange(0, 33) - 0.5\n",
        "\n",
        "fig, (ax1, ax2) = plt.subplots(2, 3, figsize=(20, 8))\n",
        "\n",
        "plt.subplot(2, 3, 1)\n",
        "plt.title(\"n_layers=1\")\n",
        "plt.xlabel(\"Bitstrings\")\n",
        "plt.ylabel(\"Frequency\")\n",
        "plt.xticks(xticks, xtick_labels, rotation=\"vertical\")\n",
        "plt.hist(result_layer_1[1], bins=bins)\n",
        "\n",
        "plt.subplot(2, 3, 2)\n",
        "plt.title(\"n_layers=3\")\n",
        "plt.xlabel(\"Bitstrings\")\n",
        "plt.ylabel(\"Frequency\")\n",
        "plt.xticks(xticks, xtick_labels, rotation=\"vertical\")\n",
        "plt.hist(result_layer_3[1], bins=bins)\n",
        "\n",
        "plt.subplot(2, 3, 3)\n",
        "plt.title(\"n_layers=5\")\n",
        "plt.xlabel(\"Bitstrings\")\n",
        "plt.ylabel(\"Frequency\")\n",
        "plt.xticks(xticks, xtick_labels, rotation=\"vertical\")\n",
        "plt.hist(result_layer_5[1], bins=bins)\n",
        "\n",
        "plt.subplot(2, 3, 4)\n",
        "plt.title(\"n_layers=8\")\n",
        "plt.xlabel(\"Bitstrings\")\n",
        "plt.ylabel(\"Frequency\")\n",
        "plt.xticks(xticks, xtick_labels, rotation=\"vertical\")\n",
        "plt.hist(result_layer_8[1], bins=bins)\n",
        "\n",
        "plt.subplot(2, 3, 5)\n",
        "plt.title(\"n_layers=9\")\n",
        "plt.xlabel(\"Bitstrings\")\n",
        "plt.ylabel(\"Frequency\")\n",
        "plt.xticks(xticks, xtick_labels, rotation=\"vertical\")\n",
        "plt.hist(result_layer_9[1], bins=bins)\n",
        "\n",
        "plt.subplot(2, 3, 6)\n",
        "plt.title(\"n_layers=10\")\n",
        "plt.xlabel(\"Bitstrings\")\n",
        "plt.ylabel(\"Frequency\")\n",
        "plt.xticks(xticks, xtick_labels, rotation=\"vertical\")\n",
        "plt.hist(result_layer_10[1], bins=bins)\n",
        "\n",
        "plt.tight_layout()\n",
        "plt.show()"
      ],
      "execution_count": 129,
      "outputs": [
        {
          "output_type": "display_data",
          "data": {
            "image/png": "[encoded data removed]",
            "text/plain": [
              "<Figure size 1440x576 with 6 Axes>"
            ]
          },
          "metadata": {
            "tags": [],
            "needs_background": "light"
          }
        }
      ]
    },
    {
      "cell_type": "code",
      "metadata": {
        "id": "Hmp7PRJFmQpP"
      },
      "source": [
        ""
      ],
      "execution_count": null,
      "outputs": []
    }
  ]
}